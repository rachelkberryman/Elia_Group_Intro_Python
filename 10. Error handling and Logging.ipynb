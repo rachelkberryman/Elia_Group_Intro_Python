{
 "cells": [
  {
   "cell_type": "markdown",
   "metadata": {},
   "source": [
    "## Error handling"
   ]
  },
  {
   "cell_type": "markdown",
   "metadata": {},
   "source": [
    "there are two types of error: **syntax errors** and **exceptions**\n",
    "\n",
    "**Syntax Errors**\n",
    "- also called parsing errors\n",
    "- parser repeats the offending line and displays a little ‘arrow’ pointing at the earliest point in the line where the error was detected\n"
   ]
  },
  {
   "cell_type": "code",
   "execution_count": 14,
   "metadata": {},
   "outputs": [
    {
     "ename": "SyntaxError",
     "evalue": "unexpected EOF while parsing (<ipython-input-14-acb42fa69df5>, line 2)",
     "output_type": "error",
     "traceback": [
      "\u001b[0;36m  File \u001b[0;32m\"<ipython-input-14-acb42fa69df5>\"\u001b[0;36m, line \u001b[0;32m2\u001b[0m\n\u001b[0;31m    \u001b[0m\n\u001b[0m    ^\u001b[0m\n\u001b[0;31mSyntaxError\u001b[0m\u001b[0;31m:\u001b[0m unexpected EOF while parsing\n"
     ]
    }
   ],
   "source": [
    "## Syntax Error\n",
    "print('Hello world'"
   ]
  },
  {
   "cell_type": "markdown",
   "metadata": {},
   "source": [
    "**Exceptions**\n",
    "- syntax is correct, but it causes an error when attempt is made to execute it\n",
    "- error detected during executions are called <ins>exceptions</ins>\n",
    "- exceptions consist of a type (e.g. NameError) and an error message that provides some details based on the type of the exception (e.g. \"name 'value' is not defined\""
   ]
  },
  {
   "cell_type": "code",
   "execution_count": 16,
   "metadata": {},
   "outputs": [
    {
     "ename": "NameError",
     "evalue": "name 'value' is not defined",
     "output_type": "error",
     "traceback": [
      "\u001b[0;31m---------------------------------------------------------------------------\u001b[0m",
      "\u001b[0;31mNameError\u001b[0m                                 Traceback (most recent call last)",
      "\u001b[0;32m<ipython-input-16-3773a35fb8f8>\u001b[0m in \u001b[0;36m<module>\u001b[0;34m\u001b[0m\n\u001b[0;32m----> 1\u001b[0;31m \u001b[0mx\u001b[0m \u001b[0;34m=\u001b[0m \u001b[0;36m4\u001b[0m \u001b[0;34m+\u001b[0m \u001b[0mvalue\u001b[0m\u001b[0;34m\u001b[0m\u001b[0;34m\u001b[0m\u001b[0m\n\u001b[0m",
      "\u001b[0;31mNameError\u001b[0m: name 'value' is not defined"
     ]
    }
   ],
   "source": [
    "## Exception\n",
    "x = 4 + value"
   ]
  },
  {
   "cell_type": "markdown",
   "metadata": {},
   "source": [
    "\n"
   ]
  },
  {
   "cell_type": "markdown",
   "metadata": {},
   "source": [
    "## How to do Exception Handling?"
   ]
  },
  {
   "cell_type": "markdown",
   "metadata": {},
   "source": [
    "short descirption:\n",
    "- catch error with try-except clause \n",
    "- runs the code following try\n",
    "- if there is an exception, runs the code following except\n",
    "\n",
    "**try**\n",
    "    - lets you test a block of code for errors <br>\n",
    "**except**\n",
    "    - lets you handle the error <br>\n",
    "**else** \n",
    "    - lets you define a block of code to be executed if no errors were raised; might be useful to not catch many different errors in a block <br>\n",
    "**finally**\n",
    "    - lets you execute code, regardless of the result of the try and except blocks (e.g. some code that needs to run before the programs ends)\n",
    "\n",
    "\n",
    "long description: </br>\n",
    "The **try** statement works as follows. (from https://docs.python.org/3/tutorial/errors.html)\n",
    "\n",
    "- First, the *try clause* (the statement(s) between the try and except keywords) is executed.\n",
    "- If no exception occurs, the *except clause* is skipped and execution of the try statement is finished.\n",
    "- If an exception occurs during execution of the try clause, the rest of the clause is skipped. Then if its type matches the exception named after the except keyword, the except clause is executed, and then execution continues after the try statement.\n",
    "- If an exception occurs which does not match the exception named in the except clause, it is passed on to outer try statements; if no handler is found, it is an unhandled exception and execution stops with a message as shown above.\n",
    "- A try statement may have more than one except clause, to specify handlers for different exceptions. At most one handler will be executed. Handlers only handle exceptions that occur in the corresponding try clause, not in other handlers of the same try statement. An except clause may name multiple exceptions as a parenthesized tuple, for example:\n"
   ]
  },
  {
   "cell_type": "code",
   "execution_count": 1,
   "metadata": {},
   "outputs": [
    {
     "name": "stdout",
     "output_type": "stream",
     "text": [
      "The file does not exist. Please choose a valid path.\n",
      "the program has been executed.\n"
     ]
    }
   ],
   "source": [
    "import pandas as pd\n",
    "\n",
    "try:\n",
    "    df_broken = pd.read_csv(\"/apath/thatdoesnotexist/file.csv\")\n",
    "    df_working =  pd.read_csv('data/wine/winemag-data_first150k.csv')\n",
    "except FileNotFoundError:\n",
    "    print(\"The file does not exist. Please choose a valid path.\")\n",
    "else:\n",
    "    print(df_working.head())\n",
    "finally:\n",
    "    print(\"the program has been executed.\")"
   ]
  },
  {
   "cell_type": "code",
   "execution_count": 2,
   "metadata": {},
   "outputs": [
    {
     "name": "stdout",
     "output_type": "stream",
     "text": [
      "Shape of Original Dataframe: (891, 12)\n",
      "Check your dataframe. The original error message is: Indexes have overlapping values: Int64Index([399], dtype='int64')\n"
     ]
    }
   ],
   "source": [
    "# read in our data\n",
    "df = pd.read_csv(\"http://bit.ly/kaggletrain\")\n",
    "print(\"Shape of Original Dataframe: \" + str(df.shape))\n",
    "\n",
    "df1 = df.iloc[:400, :]\n",
    "df2 = df.iloc[399:, ]\n",
    "\n",
    "try: \n",
    "    df_concat = pd.concat([df1, df2], verify_integrity=True)\n",
    "except ValueError as err: # catching a certain error (here ValueError) and saving the error message in the variable err\n",
    "    print(\"Check your dataframe. The original error message is: \" + str(err))\n",
    "    "
   ]
  },
  {
   "cell_type": "markdown",
   "metadata": {},
   "source": [
    "**Exercise:** </br>\n",
    "<ins>Part 1:</ins> Write a function sqrt that returns the square root of a number. In case the input value is not a number, it should print an exception which says \"The input value must be an int or float\".\n",
    "\n",
    "<ins>Part 2:</ins>  Check if the input value is not negative. If so, raise a ZeroDivisionError with the message \"Input must be non-negative\"). Add this functionality to sqrt and rename it sqrt2."
   ]
  },
  {
   "cell_type": "code",
   "execution_count": 15,
   "metadata": {},
   "outputs": [
    {
     "data": {
      "text/plain": [
       "5.830951894845301"
      ]
     },
     "execution_count": 15,
     "metadata": {},
     "output_type": "execute_result"
    }
   ],
   "source": [
    "## Test 1 for your solution \n",
    "# this should execute without an exeption\n",
    "sqrt(34)"
   ]
  },
  {
   "cell_type": "code",
   "execution_count": 13,
   "metadata": {},
   "outputs": [
    {
     "name": "stdout",
     "output_type": "stream",
     "text": [
      "The input value must be an int or float\n"
     ]
    }
   ],
   "source": [
    "## Test 2 for your solution \n",
    "# this should create an exception\n",
    "sqrt(\"jas\")"
   ]
  },
  {
   "cell_type": "markdown",
   "metadata": {},
   "source": [
    "**Solution**"
   ]
  },
  {
   "cell_type": "code",
   "execution_count": 9,
   "metadata": {},
   "outputs": [],
   "source": []
  },
  {
   "cell_type": "code",
   "execution_count": 33,
   "metadata": {},
   "outputs": [],
   "source": []
  },
  {
   "cell_type": "markdown",
   "metadata": {},
   "source": [
    "## Debugging your Code "
   ]
  },
  {
   "cell_type": "markdown",
   "metadata": {},
   "source": [
    "When using an Integrated Development Environment (IDE) you can use a debugger to go through your code and set breakpoints to stop at certain points within your code (within AAPLab Theia is available). </br>\n",
    "In JupyterNotebook a debugger is not directly available but you can split up your code in different cells, execute them seperately and use the variable inspector to verify the values.\n",
    "\n",
    "The variable inspector can be accessed by right-clicking on a cell and then selecting \"Open Variable Selector\". There you can see the current saved value in the variable.\n",
    "\n",
    "<img src=\"pics/Variable Inspector.JPG\" width = 400>\n",
    "\n",
    "For debugging and maintaining your code, the **assert statement** as well as the **logging function** can be helpful."
   ]
  },
  {
   "cell_type": "markdown",
   "metadata": {},
   "source": [
    "### Assert\n",
    "- the assert keyword is used when debugging your code\n",
    "- you are telling Python to test a condition and immediately trigger an error if the condition is false\n",
    "- it can be used e.g. to check if an assumption you made in your code is correct\n",
    "\n",
    "Places to consider putting assertions:\n",
    "\n",
    "- checking parameter types, classes, or values\n",
    "- checking data structure invariants\n",
    "- checking \"can't happen\" situations (duplicates in a list, contradictory state variables.)\n",
    "- after calling a function, to make sure that its return is reasonable\n",
    "\n",
    "*The overall point is that if something does go wrong, we want to make it completely obvious as soon as possible. It's easier to catch incorrect data at the point where it goes in than to work out how it got there later when it causes trouble.*\n",
    "\n",
    "**When to use assertions / exceptions?** </br>\n",
    "*Assertions should be used to check something that should never happen, while an exception should be used to check something that might happen.* </br>\n",
    "\n",
    "see e.g. discussions here:\n",
    "- https://stackoverflow.com/questions/1957645/when-to-use-an-assertion-and-when-to-use-an-exception#:~:text=11%20Answers&text=Assertions%20should%20be%20used%20to,that%20the%20harddrive%20suddenly%20disappears."
   ]
  },
  {
   "cell_type": "code",
   "execution_count": null,
   "metadata": {},
   "outputs": [],
   "source": [
    "## an example with assert only for demonstration. Instead of using assert, it might be better\n",
    "## to raise an exception here to the user.\n",
    "\"Please enter a number smaller than 10\"\n",
    "my_input = input(\"Your input:  \")\n",
    "assert float(my_input) < 10,  \"the number is not smaller than 10.\""
   ]
  },
  {
   "cell_type": "code",
   "execution_count": 42,
   "metadata": {},
   "outputs": [
    {
     "name": "stdout",
     "output_type": "stream",
     "text": [
      "Please enter a number smaller than 10\n"
     ]
    },
    {
     "name": "stdin",
     "output_type": "stream",
     "text": [
      "Your input:   5\n"
     ]
    },
    {
     "name": "stdout",
     "output_type": "stream",
     "text": [
      "Congrats your inserted a valid value.\n"
     ]
    }
   ],
   "source": [
    "## Function\n",
    "\n",
    "def take_input():\n",
    "    print(\"Please enter a number smaller than 10\")\n",
    "    my_input = input(\"Your input:  \")\n",
    "    assert float(my_input) < 10,  \"the number is not smaller than 10.\"\n",
    "\n",
    "    \n",
    "## Main code   \n",
    "try:\n",
    "    x = take_input()\n",
    "except ValueError:\n",
    "    print(\"You did not enter a valid number.\")\n",
    "except AssertionError:\n",
    "    print(\"Your number is not smaller than 10.\")\n",
    "    \n",
    "else:\n",
    "    print(\"Congrats your inserted a valid value.\")\n",
    "    "
   ]
  },
  {
   "cell_type": "markdown",
   "metadata": {},
   "source": [
    "## Logging"
   ]
  },
  {
   "cell_type": "markdown",
   "metadata": {},
   "source": [
    "**Why using logging?**\n",
    "- logging is used to track events that happen when you script is running\n",
    "- it can be useful when developing the code (e.g. for debuging) and also when it is in production (e.g. to have a file where errors are noted so the developer can improve the script)\n",
    "- there are several advantages using logging instead of using print()\n",
    "    - with changing the logging level, you can change the details of log infos / or turn it completely off, instead of commenting out print() commands\n",
    "    - you can save the log to a file that can be assessed after the script was run\n",
    "    - results in a cleaner and easier maintainable code\n",
    "    "
   ]
  },
  {
   "cell_type": "code",
   "execution_count": 3,
   "metadata": {},
   "outputs": [
    {
     "name": "stdout",
     "output_type": "stream",
     "text": [
      "INFO:LOGGER_NAME:So this is an info message\n",
      "WARNING:LOGGER_NAME:Attention - a warning\n"
     ]
    }
   ],
   "source": [
    "import logging\n",
    "import sys\n",
    "import importlib\n",
    "\n",
    "## this is only needed for jupyterlab because the logging library is loaded into the cache; \n",
    "## if it is not executed, you need to restart the kernel to apply changes to the logging level\n",
    "## in the basicConfig\n",
    "importlib.reload(logging) \n",
    "##\n",
    "\n",
    "## setting the config of the logger: \n",
    "# stream = sys.stdout ->  print the log directly under the notebook window\n",
    "# level -> sets the level of the logger. available levels are: DEBUG, INFO, WARNING, ERROR, CRITICAL\n",
    "logging.basicConfig(stream=sys.stdout, level=logging.INFO)\n",
    "\n",
    "\n",
    "logger = logging.getLogger('LOGGER_NAME') # create logger object \n",
    "logger.debug('This is a debug message') # create a debug log file\n",
    "logger.info('So this is an info message') # create an info log file\n",
    "logger.warning('Attention - a warning') # create a warning log file\n"
   ]
  },
  {
   "cell_type": "code",
   "execution_count": null,
   "metadata": {},
   "outputs": [],
   "source": []
  }
 ],
 "metadata": {
  "kernelspec": {
   "display_name": "Python 3",
   "language": "python",
   "name": "python3"
  },
  "language_info": {
   "codemirror_mode": {
    "name": "ipython",
    "version": 3
   },
   "file_extension": ".py",
   "mimetype": "text/x-python",
   "name": "python",
   "nbconvert_exporter": "python",
   "pygments_lexer": "ipython3",
   "version": "3.8.5"
  }
 },
 "nbformat": 4,
 "nbformat_minor": 4
}
