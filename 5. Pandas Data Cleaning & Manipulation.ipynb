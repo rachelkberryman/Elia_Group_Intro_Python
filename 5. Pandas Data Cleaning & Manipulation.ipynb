{
 "cells": [
  {
   "cell_type": "markdown",
   "metadata": {},
   "source": [
    "# Data Cleaning & Manipulation\n",
    "With Pandas, we can do more than just select data that is already there. \n",
    "We can add new columns to our datasets, apply functions, iterate thorugh each row in the dataframe, and more.\n",
    "\n",
    "This is where we move from \"pandas for exploring our data\" to \"pandas for getting our data ready to feed into models\"."
   ]
  },
  {
   "cell_type": "code",
   "execution_count": 1,
   "metadata": {},
   "outputs": [],
   "source": [
    "import pandas as pd\n",
    "import numpy as np"
   ]
  },
  {
   "cell_type": "code",
   "execution_count": 2,
   "metadata": {},
   "outputs": [],
   "source": [
    "wine = pd.read_csv('data/wine/winemag-data_first150k.csv', index_col=0)\n",
    "energy = pd.read_csv('data/energy/PJM_Load_hourly.csv', parse_dates=True, index_col=0)"
   ]
  },
  {
   "cell_type": "markdown",
   "metadata": {},
   "source": [
    "### Dealing with Null Values:"
   ]
  },
  {
   "cell_type": "code",
   "execution_count": 3,
   "metadata": {},
   "outputs": [
    {
     "name": "stdout",
     "output_type": "stream",
     "text": [
      "Does the wine df conatin nulls?: True\n",
      "Does the energy df contain nulls?: False\n"
     ]
    }
   ],
   "source": [
    "print('Does the wine df conatin nulls?:', wine.isnull().any().any())\n",
    "print('Does the energy df contain nulls?:', energy.isnull().any().any())"
   ]
  },
  {
   "cell_type": "code",
   "execution_count": 4,
   "metadata": {},
   "outputs": [
    {
     "data": {
      "text/plain": [
       "True"
      ]
     },
     "execution_count": 4,
     "metadata": {},
     "output_type": "execute_result"
    }
   ],
   "source": [
    "wine.isnull().any().any()"
   ]
  },
  {
   "cell_type": "markdown",
   "metadata": {},
   "source": [
    "**Question:** why did we use \".any()\" twice when asking this question?"
   ]
  },
  {
   "cell_type": "code",
   "execution_count": null,
   "metadata": {},
   "outputs": [],
   "source": []
  },
  {
   "cell_type": "markdown",
   "metadata": {},
   "source": [
    "Now, we need to deal with the null values in the wine table.\n",
    "How we deal with them will depend on the data type of the column in which null values are found, and how we hope to use the data.\n",
    "\n",
    "If a wine doesn't have a region listed, we can still get a lot of information about it from things like its country. But, if a wine doesn't have a price listed, it's difficult to get much information out of it. \n",
    "\n",
    "So, if a wine has a null value for either of its regions, we will set it to be \"unknown\". But, if it has a null price, we will drop the row."
   ]
  },
  {
   "cell_type": "code",
   "execution_count": 5,
   "metadata": {},
   "outputs": [
    {
     "data": {
      "text/plain": [
       "country         True\n",
       "description    False\n",
       "designation     True\n",
       "points         False\n",
       "price           True\n",
       "province        True\n",
       "region_1        True\n",
       "region_2        True\n",
       "variety        False\n",
       "winery         False\n",
       "dtype: bool"
      ]
     },
     "execution_count": 5,
     "metadata": {},
     "output_type": "execute_result"
    }
   ],
   "source": [
    "wine.isnull().any()"
   ]
  },
  {
   "cell_type": "code",
   "execution_count": 6,
   "metadata": {},
   "outputs": [
    {
     "name": "stdout",
     "output_type": "stream",
     "text": [
      "Shape of wine table before is:  (150930, 10)\n",
      "Shape of null countries table is: (5, 10)\n",
      "Shape of wine table after is:  (150925, 10)\n"
     ]
    }
   ],
   "source": [
    "print('Shape of wine table before is: ', wine.shape)\n",
    "\n",
    "null_country = wine[wine['country'].isnull()]\n",
    "print('Shape of null countries table is:', null_country.shape)\n",
    "\n",
    "wine = wine[~wine.index.isin(null_country.index)]\n",
    "print('Shape of wine table after is: ', wine.shape)"
   ]
  },
  {
   "cell_type": "markdown",
   "metadata": {},
   "source": [
    "The 5 rows where a NaN value existed for country have been dropped."
   ]
  },
  {
   "cell_type": "markdown",
   "metadata": {},
   "source": [
    "Now we'll do the same for rows with a null price."
   ]
  },
  {
   "cell_type": "code",
   "execution_count": 7,
   "metadata": {},
   "outputs": [
    {
     "name": "stdout",
     "output_type": "stream",
     "text": [
      "Shape of wine table before is:  (150925, 10)\n",
      "Shape of null prices table is: (13695, 10)\n",
      "Shape of wine table after is:  (137230, 10)\n"
     ]
    }
   ],
   "source": [
    "print('Shape of wine table before is: ', wine.shape)\n",
    "\n",
    "null_price = wine[wine['price'].isnull()]\n",
    "print('Shape of null prices table is:', null_price.shape)\n",
    "\n",
    "wine = wine[~wine.index.isin(null_price.index)]\n",
    "print('Shape of wine table after is: ', wine.shape)"
   ]
  },
  {
   "cell_type": "markdown",
   "metadata": {},
   "source": [
    "Wow! We lost a lot of rows getting rid of the null price rows.\n",
    "Can you think of another way we could deal with null prices that doesn't mean losing almost 1/10 of our data? What are the pros and cons to using these other methods?"
   ]
  },
  {
   "cell_type": "markdown",
   "metadata": {},
   "source": [
    "We can fill / replace the missing values with something else."
   ]
  },
  {
   "cell_type": "markdown",
   "metadata": {},
   "source": [
    "Now, for the other columns in which there are nulls, we can use `df.fillna()` to populate the null values with a value of our choosing. \n",
    "\n",
    "This is where we have to make some decisions. Improperly setting variables can have unintended consequences on any analysis we plan to do later using this data."
   ]
  },
  {
   "cell_type": "code",
   "execution_count": 9,
   "metadata": {},
   "outputs": [
    {
     "data": {
      "text/plain": [
       "country        False\n",
       "description    False\n",
       "designation     True\n",
       "points         False\n",
       "price          False\n",
       "province       False\n",
       "region_1        True\n",
       "region_2        True\n",
       "variety        False\n",
       "winery         False\n",
       "dtype: bool"
      ]
     },
     "execution_count": 9,
     "metadata": {},
     "output_type": "execute_result"
    }
   ],
   "source": [
    "wine.isnull().any()"
   ]
  },
  {
   "cell_type": "markdown",
   "metadata": {},
   "source": [
    "The only columns where we still have nulls are regions and designations.\n",
    "To avoid having to drop out more rows, we will use \"fillna()\"."
   ]
  },
  {
   "cell_type": "code",
   "execution_count": 10,
   "metadata": {},
   "outputs": [],
   "source": [
    "wine.fillna('unknown', inplace=True)"
   ]
  },
  {
   "cell_type": "markdown",
   "metadata": {},
   "source": [
    "We now have no null values in our dataset!"
   ]
  },
  {
   "cell_type": "code",
   "execution_count": 11,
   "metadata": {},
   "outputs": [
    {
     "data": {
      "text/plain": [
       "country        False\n",
       "description    False\n",
       "designation    False\n",
       "points         False\n",
       "price          False\n",
       "province       False\n",
       "region_1       False\n",
       "region_2       False\n",
       "variety        False\n",
       "winery         False\n",
       "dtype: bool"
      ]
     },
     "execution_count": 11,
     "metadata": {},
     "output_type": "execute_result"
    }
   ],
   "source": [
    "wine.isnull().any()"
   ]
  },
  {
   "cell_type": "markdown",
   "metadata": {},
   "source": [
    "### Creating new columns from existing ones\n",
    "In pandas, it's easy to make a new column from existing ones. "
   ]
  },
  {
   "cell_type": "code",
   "execution_count": 15,
   "metadata": {},
   "outputs": [],
   "source": [
    "wine.loc[:, 'Region'] = wine.loc[:, 'region_1'] + '_' + wine.loc[:, 'region_2']"
   ]
  },
  {
   "cell_type": "code",
   "execution_count": null,
   "metadata": {},
   "outputs": [],
   "source": [
    "wine.loc[:, 'Double_price'] = wine.loc[:, 'price'] * 2"
   ]
  }
 ],
 "metadata": {
  "kernelspec": {
   "display_name": "Python 3",
   "language": "python",
   "name": "python3"
  },
  "language_info": {
   "codemirror_mode": {
    "name": "ipython",
    "version": 3
   },
   "file_extension": ".py",
   "mimetype": "text/x-python",
   "name": "python",
   "nbconvert_exporter": "python",
   "pygments_lexer": "ipython3",
   "version": "3.8.5"
  }
 },
 "nbformat": 4,
 "nbformat_minor": 4
}
